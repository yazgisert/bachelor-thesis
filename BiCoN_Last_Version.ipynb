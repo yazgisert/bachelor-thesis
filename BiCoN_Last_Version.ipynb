{
 "cells": [
  {
   "cell_type": "code",
   "execution_count": 6,
   "metadata": {},
   "outputs": [],
   "source": [
    "from bicon import data_preprocessing\n",
    "from bicon import BiCoN\n",
    "from bicon import results_analysis\n",
    "import pandas as pd\n",
    "import numpy as np\n",
    "from scipy import stats\n",
    "import networkx as nx\n",
    "import csv\n",
    "import gseapy\n",
    "from collections import defaultdict\n",
    "import seaborn as sns\n",
    "from collections import Counter"
   ]
  },
  {
   "cell_type": "code",
   "execution_count": 7,
   "metadata": {},
   "outputs": [],
   "source": [
    "L_g_min = 10\n",
    "L_g_max = 15"
   ]
  },
  {
   "cell_type": "code",
   "execution_count": 8,
   "metadata": {},
   "outputs": [],
   "source": [
    "path_expr,path_net ='/Users/yazgisert/Desktop/tez/last_tcga_Kallisto.csv', '/Users/yazgisert/Desktop/tez/biogrid_net.tsv' #expression file, network file"
   ]
  },
  {
   "cell_type": "code",
   "execution_count": 9,
   "metadata": {},
   "outputs": [],
   "source": [
    "GE,G,labels, _= data_preprocessing(path_expr, path_net, log2 = False, formats=['csv', 'tsv'], size = 5000, zscores=True)\n",
    "#data will be z-scored and 5000 most variable genes will be analyzed"
   ]
  },
  {
   "cell_type": "code",
   "execution_count": 10,
   "metadata": {
    "scrolled": true
   },
   "outputs": [
    {
     "name": "stdout",
     "output_type": "stream",
     "text": [
      "Runtime statistics:\n",
      "###############################################################\n",
      "the joint graph has 1286 nodes\n",
      "probability update takes 7.482\n"
     ]
    },
    {
     "name": "stderr",
     "output_type": "stream",
     "text": [
      "100%|███████████████████████████████████████████| 20/20 [00:11<00:00,  1.79it/s]\n"
     ]
    },
    {
     "name": "stdout",
     "output_type": "stream",
     "text": [
      "total run-time is 11.1787428855896\n",
      "Iteration # 1\n",
      "One ant work takes 11.18 with 1 processes\n",
      "best round score: 0.404\n",
      "average score: 0.167\n",
      "Count small = 0\n",
      "One full iteration takes 13.96 with 1 processes\n"
     ]
    },
    {
     "name": "stderr",
     "output_type": "stream",
     "text": [
      "100%|███████████████████████████████████████████| 20/20 [00:15<00:00,  1.26it/s]\n"
     ]
    },
    {
     "name": "stdout",
     "output_type": "stream",
     "text": [
      "total run-time is 15.837996006011963\n",
      "Iteration # 2\n",
      "best round score: 0.312\n",
      "average score: 0.128\n",
      "Count small = 0\n"
     ]
    },
    {
     "name": "stderr",
     "output_type": "stream",
     "text": [
      "100%|███████████████████████████████████████████| 20/20 [00:08<00:00,  2.36it/s]\n"
     ]
    },
    {
     "name": "stdout",
     "output_type": "stream",
     "text": [
      "total run-time is 8.506865978240967\n",
      "Iteration # 3\n",
      "best round score: 0.421\n",
      "average score: 0.183\n",
      "Count small = 0\n"
     ]
    },
    {
     "name": "stderr",
     "output_type": "stream",
     "text": [
      "100%|███████████████████████████████████████████| 20/20 [00:29<00:00,  1.45s/it]\n"
     ]
    },
    {
     "name": "stdout",
     "output_type": "stream",
     "text": [
      "total run-time is 29.101636171340942\n",
      "Iteration # 4\n",
      "best round score: 0.398\n",
      "average score: 0.13\n",
      "Count small = 0\n"
     ]
    },
    {
     "name": "stderr",
     "output_type": "stream",
     "text": [
      "100%|███████████████████████████████████████████| 20/20 [00:07<00:00,  2.60it/s]\n"
     ]
    },
    {
     "name": "stdout",
     "output_type": "stream",
     "text": [
      "total run-time is 7.703316926956177\n",
      "Iteration # 5\n",
      "best round score: 0.346\n",
      "average score: 0.144\n",
      "Count small = 0\n"
     ]
    },
    {
     "name": "stderr",
     "output_type": "stream",
     "text": [
      "100%|███████████████████████████████████████████| 20/20 [00:29<00:00,  1.49s/it]\n"
     ]
    },
    {
     "name": "stdout",
     "output_type": "stream",
     "text": [
      "total run-time is 29.77736496925354\n",
      "Iteration # 6\n",
      "best round score: 0.49\n",
      "average score: 0.146\n",
      "Count small = 0\n"
     ]
    },
    {
     "name": "stderr",
     "output_type": "stream",
     "text": [
      "100%|███████████████████████████████████████████| 20/20 [00:30<00:00,  1.53s/it]\n"
     ]
    },
    {
     "name": "stdout",
     "output_type": "stream",
     "text": [
      "total run-time is 30.52169704437256\n",
      "Iteration # 7\n",
      "best round score: 0.368\n",
      "average score: 0.159\n",
      "Count small = 0\n"
     ]
    },
    {
     "name": "stderr",
     "output_type": "stream",
     "text": [
      "100%|███████████████████████████████████████████| 20/20 [00:30<00:00,  1.51s/it]\n"
     ]
    },
    {
     "name": "stdout",
     "output_type": "stream",
     "text": [
      "total run-time is 30.2077579498291\n",
      "Iteration # 8\n",
      "best round score: 0.421\n",
      "average score: 0.147\n",
      "Count small = 0\n"
     ]
    },
    {
     "name": "stderr",
     "output_type": "stream",
     "text": [
      "100%|███████████████████████████████████████████| 20/20 [00:09<00:00,  2.09it/s]\n"
     ]
    },
    {
     "name": "stdout",
     "output_type": "stream",
     "text": [
      "total run-time is 9.587541818618774\n",
      "Iteration # 9\n",
      "best round score: 0.409\n",
      "average score: 0.139\n",
      "Count small = 0\n"
     ]
    },
    {
     "name": "stderr",
     "output_type": "stream",
     "text": [
      "100%|███████████████████████████████████████████| 20/20 [00:27<00:00,  1.39s/it]\n"
     ]
    },
    {
     "name": "stdout",
     "output_type": "stream",
     "text": [
      "total run-time is 27.784664154052734\n",
      "Iteration # 10\n",
      "best round score: 0.269\n",
      "average score: 0.105\n",
      "Count small = 0\n"
     ]
    },
    {
     "name": "stderr",
     "output_type": "stream",
     "text": [
      "100%|███████████████████████████████████████████| 20/20 [00:30<00:00,  1.50s/it]\n"
     ]
    },
    {
     "name": "stdout",
     "output_type": "stream",
     "text": [
      "total run-time is 30.09834885597229\n",
      "Iteration # 11\n",
      "best round score: 0.446\n",
      "average score: 0.207\n",
      "Count small = 0\n"
     ]
    },
    {
     "name": "stderr",
     "output_type": "stream",
     "text": [
      "100%|███████████████████████████████████████████| 20/20 [00:21<00:00,  1.08s/it]\n"
     ]
    },
    {
     "name": "stdout",
     "output_type": "stream",
     "text": [
      "total run-time is 21.676417112350464\n",
      "Iteration # 12\n",
      "best round score: 0.244\n",
      "average score: 0.083\n",
      "Count small = 0\n"
     ]
    },
    {
     "name": "stderr",
     "output_type": "stream",
     "text": [
      "100%|███████████████████████████████████████████| 20/20 [00:29<00:00,  1.47s/it]\n"
     ]
    },
    {
     "name": "stdout",
     "output_type": "stream",
     "text": [
      "total run-time is 29.335061073303223\n",
      "Iteration # 13\n",
      "best round score: 0.75\n",
      "average score: 0.172\n",
      "Count small = 0\n"
     ]
    },
    {
     "name": "stderr",
     "output_type": "stream",
     "text": [
      "100%|███████████████████████████████████████████| 20/20 [00:29<00:00,  1.49s/it]\n"
     ]
    },
    {
     "name": "stdout",
     "output_type": "stream",
     "text": [
      "total run-time is 29.762252807617188\n",
      "Iteration # 14\n",
      "best round score: 0.614\n",
      "average score: 0.237\n",
      "Count small = 0\n"
     ]
    },
    {
     "name": "stderr",
     "output_type": "stream",
     "text": [
      "100%|███████████████████████████████████████████| 20/20 [00:26<00:00,  1.33s/it]\n"
     ]
    },
    {
     "name": "stdout",
     "output_type": "stream",
     "text": [
      "total run-time is 26.57472276687622\n",
      "Iteration # 15\n",
      "best round score: 1.026\n",
      "average score: 0.554\n",
      "Count small = 0\n"
     ]
    },
    {
     "name": "stderr",
     "output_type": "stream",
     "text": [
      "100%|███████████████████████████████████████████| 20/20 [00:29<00:00,  1.48s/it]\n"
     ]
    },
    {
     "name": "stdout",
     "output_type": "stream",
     "text": [
      "total run-time is 29.672356128692627\n",
      "Iteration # 16\n",
      "best round score: 1.193\n",
      "average score: 1.065\n",
      "Count small = 0\n"
     ]
    },
    {
     "name": "stderr",
     "output_type": "stream",
     "text": [
      "100%|███████████████████████████████████████████| 20/20 [00:28<00:00,  1.42s/it]\n"
     ]
    },
    {
     "name": "stdout",
     "output_type": "stream",
     "text": [
      "total run-time is 28.329544067382812\n",
      "Iteration # 17\n",
      "best round score: 1.193\n",
      "average score: 0.952\n",
      "Count small = 1\n"
     ]
    },
    {
     "name": "stderr",
     "output_type": "stream",
     "text": [
      "100%|███████████████████████████████████████████| 20/20 [00:29<00:00,  1.47s/it]\n"
     ]
    },
    {
     "name": "stdout",
     "output_type": "stream",
     "text": [
      "total run-time is 29.364858150482178\n",
      "Iteration # 18\n",
      "best round score: 1.193\n",
      "average score: 0.94\n",
      "Count small = 2\n"
     ]
    },
    {
     "name": "stderr",
     "output_type": "stream",
     "text": [
      "100%|███████████████████████████████████████████| 20/20 [00:30<00:00,  1.51s/it]\n"
     ]
    },
    {
     "name": "stdout",
     "output_type": "stream",
     "text": [
      "total run-time is 30.227550983428955\n",
      "Iteration # 19\n",
      "best round score: 1.182\n",
      "average score: 0.888\n",
      "Count small = 2\n"
     ]
    },
    {
     "name": "stderr",
     "output_type": "stream",
     "text": [
      "100%|███████████████████████████████████████████| 20/20 [00:28<00:00,  1.43s/it]\n"
     ]
    },
    {
     "name": "stdout",
     "output_type": "stream",
     "text": [
      "total run-time is 28.513604879379272\n",
      "Iteration # 20\n",
      "best round score: 1.182\n",
      "average score: 0.869\n",
      "Count small = 2\n"
     ]
    },
    {
     "name": "stderr",
     "output_type": "stream",
     "text": [
      "100%|███████████████████████████████████████████| 20/20 [00:29<00:00,  1.47s/it]\n"
     ]
    },
    {
     "name": "stdout",
     "output_type": "stream",
     "text": [
      "total run-time is 29.31354022026062\n",
      "Iteration # 21\n",
      "best round score: 1.182\n",
      "average score: 0.926\n",
      "Count small = 2\n"
     ]
    },
    {
     "name": "stderr",
     "output_type": "stream",
     "text": [
      "100%|███████████████████████████████████████████| 20/20 [00:25<00:00,  1.28s/it]\n"
     ]
    },
    {
     "name": "stdout",
     "output_type": "stream",
     "text": [
      "total run-time is 25.628684043884277\n",
      "Iteration # 22\n",
      "best round score: 1.172\n",
      "average score: 0.921\n",
      "Count small = 2\n"
     ]
    },
    {
     "name": "stderr",
     "output_type": "stream",
     "text": [
      "100%|███████████████████████████████████████████| 20/20 [00:25<00:00,  1.29s/it]\n"
     ]
    },
    {
     "name": "stdout",
     "output_type": "stream",
     "text": [
      "total run-time is 25.773201942443848\n",
      "Iteration # 23\n",
      "best round score: 1.172\n",
      "average score: 0.862\n",
      "Count small = 2\n"
     ]
    },
    {
     "name": "stderr",
     "output_type": "stream",
     "text": [
      "100%|███████████████████████████████████████████| 20/20 [00:29<00:00,  1.48s/it]\n"
     ]
    },
    {
     "name": "stdout",
     "output_type": "stream",
     "text": [
      "total run-time is 29.580824851989746\n",
      "Iteration # 24\n",
      "best round score: 1.172\n",
      "average score: 0.852\n",
      "Count small = 2\n"
     ]
    },
    {
     "name": "stderr",
     "output_type": "stream",
     "text": [
      "100%|███████████████████████████████████████████| 20/20 [00:29<00:00,  1.47s/it]\n"
     ]
    },
    {
     "name": "stdout",
     "output_type": "stream",
     "text": [
      "total run-time is 29.37557888031006\n",
      "Iteration # 25\n",
      "best round score: 1.172\n",
      "average score: 0.828\n",
      "Count small = 2\n"
     ]
    },
    {
     "name": "stderr",
     "output_type": "stream",
     "text": [
      "100%|███████████████████████████████████████████| 20/20 [00:22<00:00,  1.14s/it]\n"
     ]
    },
    {
     "name": "stdout",
     "output_type": "stream",
     "text": [
      "total run-time is 22.77242112159729\n",
      "Iteration # 26\n",
      "best round score: 1.172\n",
      "average score: 0.911\n",
      "Count small = 2\n"
     ]
    },
    {
     "name": "stderr",
     "output_type": "stream",
     "text": [
      "100%|███████████████████████████████████████████| 20/20 [00:29<00:00,  1.47s/it]\n"
     ]
    },
    {
     "name": "stdout",
     "output_type": "stream",
     "text": [
      "total run-time is 29.337207794189453\n",
      "Iteration # 27\n",
      "best round score: 1.172\n",
      "average score: 0.793\n",
      "Count small = 2\n"
     ]
    },
    {
     "name": "stderr",
     "output_type": "stream",
     "text": [
      "100%|███████████████████████████████████████████| 20/20 [00:28<00:00,  1.44s/it]\n"
     ]
    },
    {
     "name": "stdout",
     "output_type": "stream",
     "text": [
      "total run-time is 28.861982822418213\n",
      "Iteration # 28\n",
      "best round score: 1.027\n",
      "average score: 0.702\n",
      "Count small = 2\n"
     ]
    },
    {
     "name": "stderr",
     "output_type": "stream",
     "text": [
      "100%|███████████████████████████████████████████| 20/20 [00:29<00:00,  1.47s/it]\n"
     ]
    },
    {
     "name": "stdout",
     "output_type": "stream",
     "text": [
      "total run-time is 29.42426586151123\n",
      "Iteration # 29\n",
      "best round score: 1.172\n",
      "average score: 0.875\n",
      "Count small = 2\n"
     ]
    },
    {
     "name": "stderr",
     "output_type": "stream",
     "text": [
      "100%|███████████████████████████████████████████| 20/20 [00:28<00:00,  1.45s/it]\n"
     ]
    },
    {
     "name": "stdout",
     "output_type": "stream",
     "text": [
      "total run-time is 28.986583709716797\n",
      "Iteration # 30\n",
      "best round score: 1.172\n",
      "average score: 0.954\n",
      "Count small = 2\n"
     ]
    },
    {
     "name": "stderr",
     "output_type": "stream",
     "text": [
      "100%|███████████████████████████████████████████| 20/20 [00:29<00:00,  1.46s/it]\n"
     ]
    },
    {
     "name": "stdout",
     "output_type": "stream",
     "text": [
      "total run-time is 29.268542766571045\n",
      "Iteration # 31\n",
      "best round score: 1.172\n",
      "average score: 0.835\n",
      "Count small = 2\n"
     ]
    },
    {
     "name": "stderr",
     "output_type": "stream",
     "text": [
      "100%|███████████████████████████████████████████| 20/20 [00:28<00:00,  1.42s/it]\n"
     ]
    },
    {
     "name": "stdout",
     "output_type": "stream",
     "text": [
      "total run-time is 28.44526195526123\n",
      "Iteration # 32\n",
      "best round score: 1.172\n",
      "average score: 0.878\n",
      "Count small = 2\n"
     ]
    },
    {
     "name": "stderr",
     "output_type": "stream",
     "text": [
      "100%|███████████████████████████████████████████| 20/20 [00:15<00:00,  1.33it/s]\n"
     ]
    },
    {
     "name": "stdout",
     "output_type": "stream",
     "text": [
      "total run-time is 15.07463812828064\n",
      "Iteration # 33\n",
      "best round score: 1.172\n",
      "average score: 0.849\n",
      "Count small = 2\n"
     ]
    },
    {
     "name": "stderr",
     "output_type": "stream",
     "text": [
      "100%|███████████████████████████████████████████| 20/20 [00:08<00:00,  2.33it/s]\n"
     ]
    },
    {
     "name": "stdout",
     "output_type": "stream",
     "text": [
      "total run-time is 8.570643901824951\n",
      "Iteration # 34\n",
      "best round score: 1.172\n",
      "average score: 0.841\n",
      "Count small = 2\n"
     ]
    },
    {
     "name": "stderr",
     "output_type": "stream",
     "text": [
      "100%|███████████████████████████████████████████| 20/20 [00:29<00:00,  1.49s/it]\n"
     ]
    },
    {
     "name": "stdout",
     "output_type": "stream",
     "text": [
      "total run-time is 29.887108087539673\n",
      "Iteration # 35\n",
      "best round score: 1.172\n",
      "average score: 0.94\n",
      "Count small = 2\n"
     ]
    },
    {
     "name": "stderr",
     "output_type": "stream",
     "text": [
      "100%|███████████████████████████████████████████| 20/20 [00:24<00:00,  1.20s/it]\n"
     ]
    },
    {
     "name": "stdout",
     "output_type": "stream",
     "text": [
      "total run-time is 24.09780216217041\n",
      "Iteration # 36\n",
      "best round score: 1.172\n",
      "average score: 0.823\n",
      "Count small = 2\n"
     ]
    },
    {
     "name": "stderr",
     "output_type": "stream",
     "text": [
      "100%|███████████████████████████████████████████| 20/20 [00:21<00:00,  1.07s/it]\n"
     ]
    },
    {
     "name": "stdout",
     "output_type": "stream",
     "text": [
      "total run-time is 21.402060985565186\n",
      "Iteration # 37\n",
      "best round score: 1.172\n",
      "average score: 0.811\n",
      "Count small = 2\n"
     ]
    },
    {
     "name": "stderr",
     "output_type": "stream",
     "text": [
      "100%|███████████████████████████████████████████| 20/20 [00:31<00:00,  1.59s/it]\n"
     ]
    },
    {
     "name": "stdout",
     "output_type": "stream",
     "text": [
      "total run-time is 31.736235857009888\n",
      "Iteration # 38\n",
      "best round score: 1.172\n",
      "average score: 0.92\n",
      "Count small = 2\n"
     ]
    },
    {
     "name": "stderr",
     "output_type": "stream",
     "text": [
      "100%|███████████████████████████████████████████| 20/20 [00:20<00:00,  1.05s/it]\n"
     ]
    },
    {
     "name": "stdout",
     "output_type": "stream",
     "text": [
      "total run-time is 20.9285728931427\n",
      "Iteration # 39\n",
      "best round score: 1.172\n",
      "average score: 0.851\n",
      "Count small = 2\n"
     ]
    },
    {
     "name": "stderr",
     "output_type": "stream",
     "text": [
      "100%|███████████████████████████████████████████| 20/20 [00:29<00:00,  1.48s/it]\n"
     ]
    },
    {
     "name": "stdout",
     "output_type": "stream",
     "text": [
      "total run-time is 29.605613946914673\n",
      "Iteration # 40\n",
      "best round score: 1.172\n",
      "average score: 0.867\n",
      "Count small = 2\n"
     ]
    },
    {
     "name": "stderr",
     "output_type": "stream",
     "text": [
      "100%|███████████████████████████████████████████| 20/20 [00:31<00:00,  1.56s/it]\n"
     ]
    },
    {
     "name": "stdout",
     "output_type": "stream",
     "text": [
      "total run-time is 31.172222137451172\n",
      "Iteration # 41\n",
      "best round score: 1.172\n",
      "average score: 0.811\n",
      "Count small = 2\n"
     ]
    },
    {
     "name": "stderr",
     "output_type": "stream",
     "text": [
      "100%|███████████████████████████████████████████| 20/20 [00:15<00:00,  1.25it/s]\n"
     ]
    },
    {
     "name": "stdout",
     "output_type": "stream",
     "text": [
      "total run-time is 15.963417768478394\n",
      "Iteration # 42\n",
      "best round score: 1.172\n",
      "average score: 0.857\n",
      "Count small = 2\n"
     ]
    },
    {
     "name": "stderr",
     "output_type": "stream",
     "text": [
      "100%|███████████████████████████████████████████| 20/20 [00:29<00:00,  1.45s/it]\n"
     ]
    },
    {
     "name": "stdout",
     "output_type": "stream",
     "text": [
      "total run-time is 29.101858139038086\n",
      "Iteration # 43\n",
      "best round score: 1.172\n",
      "average score: 0.881\n",
      "Count small = 2\n"
     ]
    },
    {
     "name": "stderr",
     "output_type": "stream",
     "text": [
      "100%|███████████████████████████████████████████| 20/20 [00:29<00:00,  1.46s/it]\n"
     ]
    },
    {
     "name": "stdout",
     "output_type": "stream",
     "text": [
      "total run-time is 29.271400928497314\n",
      "Iteration # 44\n",
      "best round score: 1.172\n",
      "average score: 0.883\n",
      "Count small = 2\n"
     ]
    },
    {
     "name": "stderr",
     "output_type": "stream",
     "text": [
      "100%|███████████████████████████████████████████| 20/20 [00:29<00:00,  1.48s/it]\n"
     ]
    },
    {
     "name": "stdout",
     "output_type": "stream",
     "text": [
      "total run-time is 29.690572023391724\n",
      "Iteration # 45\n",
      "best round score: 1.172\n",
      "average score: 0.87\n",
      "Count small = 2\n"
     ]
    },
    {
     "name": "stderr",
     "output_type": "stream",
     "text": [
      "100%|███████████████████████████████████████████| 20/20 [00:29<00:00,  1.49s/it]\n"
     ]
    },
    {
     "name": "stdout",
     "output_type": "stream",
     "text": [
      "total run-time is 29.755647897720337\n",
      "Iteration # 46\n",
      "best round score: 1.172\n",
      "average score: 0.917\n",
      "Count small = 2\n"
     ]
    },
    {
     "name": "stderr",
     "output_type": "stream",
     "text": [
      "100%|███████████████████████████████████████████| 20/20 [00:29<00:00,  1.48s/it]\n"
     ]
    },
    {
     "name": "stdout",
     "output_type": "stream",
     "text": [
      "total run-time is 29.690736293792725\n",
      "Iteration # 47\n",
      "best round score: 1.172\n",
      "average score: 0.805\n",
      "Count small = 2\n"
     ]
    },
    {
     "name": "stderr",
     "output_type": "stream",
     "text": [
      "100%|███████████████████████████████████████████| 20/20 [00:29<00:00,  1.46s/it]\n"
     ]
    },
    {
     "name": "stdout",
     "output_type": "stream",
     "text": [
      "total run-time is 29.276745319366455\n",
      "Iteration # 48\n",
      "best round score: 1.172\n",
      "average score: 0.812\n",
      "Count small = 2\n"
     ]
    },
    {
     "name": "stderr",
     "output_type": "stream",
     "text": [
      "100%|███████████████████████████████████████████| 20/20 [00:29<00:00,  1.47s/it]\n"
     ]
    },
    {
     "name": "stdout",
     "output_type": "stream",
     "text": [
      "total run-time is 29.412993907928467\n",
      "Iteration # 49\n",
      "best round score: 1.027\n",
      "average score: 0.83\n",
      "Count small = 2\n"
     ]
    },
    {
     "name": "stderr",
     "output_type": "stream",
     "text": [
      "100%|███████████████████████████████████████████| 20/20 [00:29<00:00,  1.47s/it]\n"
     ]
    },
    {
     "name": "stdout",
     "output_type": "stream",
     "text": [
      "total run-time is 29.345179796218872\n",
      "Iteration # 50\n",
      "best round score: 1.172\n",
      "average score: 0.899\n",
      "Count small = 2\n"
     ]
    },
    {
     "name": "stderr",
     "output_type": "stream",
     "text": [
      "100%|███████████████████████████████████████████| 20/20 [00:29<00:00,  1.47s/it]\n"
     ]
    },
    {
     "name": "stdout",
     "output_type": "stream",
     "text": [
      "total run-time is 29.38635802268982\n",
      "Iteration # 51\n",
      "best round score: 1.172\n",
      "average score: 0.798\n",
      "Count small = 2\n"
     ]
    },
    {
     "name": "stderr",
     "output_type": "stream",
     "text": [
      "100%|███████████████████████████████████████████| 20/20 [00:29<00:00,  1.47s/it]\n"
     ]
    },
    {
     "name": "stdout",
     "output_type": "stream",
     "text": [
      "total run-time is 29.475532054901123\n",
      "Iteration # 52\n",
      "best round score: 1.172\n",
      "average score: 0.828\n",
      "Count small = 2\n"
     ]
    },
    {
     "name": "stderr",
     "output_type": "stream",
     "text": [
      "100%|███████████████████████████████████████████| 20/20 [00:29<00:00,  1.48s/it]\n"
     ]
    },
    {
     "name": "stdout",
     "output_type": "stream",
     "text": [
      "total run-time is 29.559283018112183\n",
      "Iteration # 53\n",
      "best round score: 1.172\n",
      "average score: 0.79\n",
      "Count small = 2\n"
     ]
    },
    {
     "name": "stderr",
     "output_type": "stream",
     "text": [
      "100%|███████████████████████████████████████████| 20/20 [00:29<00:00,  1.47s/it]\n"
     ]
    },
    {
     "name": "stdout",
     "output_type": "stream",
     "text": [
      "total run-time is 29.394023895263672\n",
      "Iteration # 54\n",
      "best round score: 1.172\n",
      "average score: 0.858\n",
      "Count small = 2\n"
     ]
    },
    {
     "name": "stderr",
     "output_type": "stream",
     "text": [
      "100%|███████████████████████████████████████████| 20/20 [00:30<00:00,  1.54s/it]\n"
     ]
    },
    {
     "name": "stdout",
     "output_type": "stream",
     "text": [
      "total run-time is 30.792221784591675\n",
      "Iteration # 55\n",
      "best round score: 1.172\n",
      "average score: 0.828\n",
      "Count small = 2\n"
     ]
    },
    {
     "name": "stderr",
     "output_type": "stream",
     "text": [
      "100%|███████████████████████████████████████████| 20/20 [00:22<00:00,  1.14s/it]\n"
     ]
    },
    {
     "name": "stdout",
     "output_type": "stream",
     "text": [
      "total run-time is 22.797343015670776\n",
      "Iteration # 56\n",
      "best round score: 1.172\n",
      "average score: 0.845\n",
      "Count small = 2\n"
     ]
    },
    {
     "name": "stderr",
     "output_type": "stream",
     "text": [
      "100%|███████████████████████████████████████████| 20/20 [00:16<00:00,  1.21it/s]\n"
     ]
    },
    {
     "name": "stdout",
     "output_type": "stream",
     "text": [
      "total run-time is 16.582526206970215\n",
      "Iteration # 57\n",
      "best round score: 1.172\n",
      "average score: 0.87\n",
      "Count small = 2\n"
     ]
    },
    {
     "name": "stderr",
     "output_type": "stream",
     "text": [
      "100%|███████████████████████████████████████████| 20/20 [00:29<00:00,  1.49s/it]\n"
     ]
    },
    {
     "name": "stdout",
     "output_type": "stream",
     "text": [
      "total run-time is 29.87409996986389\n",
      "Iteration # 58\n",
      "best round score: 1.172\n",
      "average score: 0.866\n",
      "Count small = 2\n"
     ]
    },
    {
     "name": "stderr",
     "output_type": "stream",
     "text": [
      "100%|███████████████████████████████████████████| 20/20 [00:31<00:00,  1.55s/it]\n"
     ]
    },
    {
     "name": "stdout",
     "output_type": "stream",
     "text": [
      "total run-time is 31.018551111221313\n",
      "Iteration # 59\n",
      "best round score: 1.172\n",
      "average score: 0.812\n",
      "Count small = 2\n"
     ]
    },
    {
     "name": "stderr",
     "output_type": "stream",
     "text": [
      "100%|███████████████████████████████████████████| 20/20 [00:29<00:00,  1.49s/it]\n"
     ]
    },
    {
     "name": "stdout",
     "output_type": "stream",
     "text": [
      "total run-time is 29.724502563476562\n",
      "Iteration # 60\n",
      "best round score: 1.172\n",
      "average score: 0.885\n",
      "Count small = 2\n"
     ]
    },
    {
     "name": "stderr",
     "output_type": "stream",
     "text": [
      "100%|███████████████████████████████████████████| 20/20 [00:29<00:00,  1.50s/it]\n"
     ]
    },
    {
     "name": "stdout",
     "output_type": "stream",
     "text": [
      "total run-time is 29.954153060913086\n",
      "Iteration # 61\n",
      "best round score: 1.172\n",
      "average score: 0.862\n",
      "Count small = 2\n"
     ]
    },
    {
     "name": "stderr",
     "output_type": "stream",
     "text": [
      "100%|███████████████████████████████████████████| 20/20 [00:29<00:00,  1.48s/it]\n"
     ]
    },
    {
     "name": "stdout",
     "output_type": "stream",
     "text": [
      "total run-time is 29.515254974365234\n",
      "Iteration # 62\n",
      "best round score: 1.172\n",
      "average score: 0.826\n",
      "Count small = 2\n"
     ]
    },
    {
     "name": "stderr",
     "output_type": "stream",
     "text": [
      "100%|███████████████████████████████████████████| 20/20 [00:29<00:00,  1.46s/it]\n"
     ]
    },
    {
     "name": "stdout",
     "output_type": "stream",
     "text": [
      "total run-time is 29.256120920181274\n",
      "Iteration # 63\n",
      "best round score: 1.172\n",
      "average score: 0.828\n",
      "Count small = 2\n"
     ]
    },
    {
     "name": "stderr",
     "output_type": "stream",
     "text": [
      "100%|███████████████████████████████████████████| 20/20 [00:29<00:00,  1.49s/it]\n"
     ]
    },
    {
     "name": "stdout",
     "output_type": "stream",
     "text": [
      "total run-time is 29.753275156021118\n",
      "Iteration # 64\n",
      "best round score: 1.027\n",
      "average score: 0.815\n",
      "Count small = 2\n"
     ]
    },
    {
     "name": "stderr",
     "output_type": "stream",
     "text": [
      "100%|███████████████████████████████████████████| 20/20 [00:29<00:00,  1.48s/it]\n"
     ]
    },
    {
     "name": "stdout",
     "output_type": "stream",
     "text": [
      "total run-time is 29.553862810134888\n",
      "Iteration # 65\n",
      "best round score: 1.172\n",
      "average score: 0.791\n",
      "Count small = 2\n"
     ]
    },
    {
     "name": "stderr",
     "output_type": "stream",
     "text": [
      "100%|███████████████████████████████████████████| 20/20 [00:29<00:00,  1.48s/it]\n"
     ]
    },
    {
     "name": "stdout",
     "output_type": "stream",
     "text": [
      "total run-time is 29.51541805267334\n",
      "Iteration # 66\n",
      "best round score: 1.172\n",
      "average score: 0.842\n",
      "Count small = 2\n"
     ]
    },
    {
     "name": "stderr",
     "output_type": "stream",
     "text": [
      "100%|███████████████████████████████████████████| 20/20 [00:25<00:00,  1.26s/it]\n"
     ]
    },
    {
     "name": "stdout",
     "output_type": "stream",
     "text": [
      "total run-time is 25.33346390724182\n",
      "Iteration # 67\n",
      "best round score: 1.172\n",
      "average score: 0.849\n",
      "Count small = 2\n"
     ]
    },
    {
     "name": "stderr",
     "output_type": "stream",
     "text": [
      "100%|███████████████████████████████████████████| 20/20 [00:31<00:00,  1.59s/it]\n"
     ]
    },
    {
     "name": "stdout",
     "output_type": "stream",
     "text": [
      "total run-time is 31.77202010154724\n",
      "Iteration # 68\n",
      "best round score: 1.172\n",
      "average score: 0.866\n",
      "Count small = 2\n"
     ]
    },
    {
     "name": "stderr",
     "output_type": "stream",
     "text": [
      "100%|███████████████████████████████████████████| 20/20 [00:29<00:00,  1.49s/it]\n"
     ]
    },
    {
     "name": "stdout",
     "output_type": "stream",
     "text": [
      "total run-time is 29.888395071029663\n",
      "Iteration # 69\n",
      "best round score: 1.172\n",
      "average score: 0.829\n",
      "Count small = 2\n"
     ]
    },
    {
     "name": "stderr",
     "output_type": "stream",
     "text": [
      "100%|███████████████████████████████████████████| 20/20 [00:30<00:00,  1.50s/it]\n"
     ]
    },
    {
     "name": "stdout",
     "output_type": "stream",
     "text": [
      "total run-time is 30.092938899993896\n",
      "Iteration # 70\n",
      "best round score: 1.172\n",
      "average score: 0.903\n",
      "Count small = 2\n"
     ]
    },
    {
     "name": "stderr",
     "output_type": "stream",
     "text": [
      "100%|███████████████████████████████████████████| 20/20 [00:29<00:00,  1.47s/it]\n"
     ]
    },
    {
     "name": "stdout",
     "output_type": "stream",
     "text": [
      "total run-time is 29.480550289154053\n",
      "Iteration # 71\n",
      "best round score: 1.172\n",
      "average score: 0.849\n",
      "Count small = 2\n"
     ]
    },
    {
     "name": "stderr",
     "output_type": "stream",
     "text": [
      "100%|███████████████████████████████████████████| 20/20 [00:29<00:00,  1.49s/it]\n"
     ]
    },
    {
     "name": "stdout",
     "output_type": "stream",
     "text": [
      "total run-time is 29.712793827056885\n",
      "Iteration # 72\n",
      "best round score: 1.172\n",
      "average score: 0.822\n",
      "Count small = 2\n"
     ]
    },
    {
     "name": "stderr",
     "output_type": "stream",
     "text": [
      "100%|███████████████████████████████████████████| 20/20 [00:29<00:00,  1.47s/it]\n"
     ]
    },
    {
     "name": "stdout",
     "output_type": "stream",
     "text": [
      "total run-time is 29.348154067993164\n",
      "Iteration # 73\n",
      "best round score: 1.172\n",
      "average score: 0.868\n",
      "Count small = 2\n"
     ]
    },
    {
     "name": "stderr",
     "output_type": "stream",
     "text": [
      "100%|███████████████████████████████████████████| 20/20 [00:29<00:00,  1.48s/it]\n"
     ]
    },
    {
     "name": "stdout",
     "output_type": "stream",
     "text": [
      "total run-time is 29.608540058135986\n",
      "Iteration # 74\n",
      "best round score: 1.172\n",
      "average score: 0.758\n",
      "Count small = 2\n"
     ]
    },
    {
     "name": "stderr",
     "output_type": "stream",
     "text": [
      "100%|███████████████████████████████████████████| 20/20 [00:29<00:00,  1.49s/it]\n"
     ]
    },
    {
     "name": "stdout",
     "output_type": "stream",
     "text": [
      "total run-time is 29.76656484603882\n",
      "Iteration # 75\n",
      "best round score: 1.172\n",
      "average score: 0.865\n",
      "Count small = 2\n"
     ]
    },
    {
     "name": "stderr",
     "output_type": "stream",
     "text": [
      "100%|███████████████████████████████████████████| 20/20 [00:29<00:00,  1.49s/it]\n"
     ]
    },
    {
     "name": "stdout",
     "output_type": "stream",
     "text": [
      "total run-time is 29.707107067108154\n",
      "Iteration # 76\n",
      "best round score: 1.172\n",
      "average score: 0.884\n",
      "Count small = 2\n"
     ]
    },
    {
     "name": "stderr",
     "output_type": "stream",
     "text": [
      "100%|███████████████████████████████████████████| 20/20 [00:29<00:00,  1.48s/it]\n"
     ]
    },
    {
     "name": "stdout",
     "output_type": "stream",
     "text": [
      "total run-time is 29.553291082382202\n",
      "Iteration # 77\n",
      "best round score: 1.172\n",
      "average score: 0.844\n",
      "Count small = 2\n"
     ]
    },
    {
     "name": "stderr",
     "output_type": "stream",
     "text": [
      "100%|███████████████████████████████████████████| 20/20 [00:29<00:00,  1.49s/it]\n"
     ]
    },
    {
     "name": "stdout",
     "output_type": "stream",
     "text": [
      "total run-time is 29.72457194328308\n",
      "Iteration # 78\n",
      "best round score: 1.172\n",
      "average score: 0.789\n",
      "Count small = 2\n"
     ]
    },
    {
     "name": "stderr",
     "output_type": "stream",
     "text": [
      "100%|███████████████████████████████████████████| 20/20 [00:29<00:00,  1.47s/it]\n"
     ]
    },
    {
     "name": "stdout",
     "output_type": "stream",
     "text": [
      "total run-time is 29.365686178207397\n",
      "Iteration # 79\n",
      "best round score: 1.172\n",
      "average score: 0.91\n",
      "Count small = 2\n"
     ]
    },
    {
     "name": "stderr",
     "output_type": "stream",
     "text": [
      "100%|███████████████████████████████████████████| 20/20 [00:29<00:00,  1.47s/it]\n"
     ]
    },
    {
     "name": "stdout",
     "output_type": "stream",
     "text": [
      "total run-time is 29.482981204986572\n",
      "Iteration # 80\n",
      "best round score: 1.172\n",
      "average score: 0.917\n",
      "Count small = 2\n"
     ]
    },
    {
     "name": "stderr",
     "output_type": "stream",
     "text": [
      "100%|███████████████████████████████████████████| 20/20 [00:29<00:00,  1.49s/it]\n"
     ]
    },
    {
     "name": "stdout",
     "output_type": "stream",
     "text": [
      "total run-time is 29.713016271591187\n",
      "Iteration # 81\n",
      "best round score: 1.172\n",
      "average score: 0.83\n",
      "Count small = 2\n"
     ]
    },
    {
     "name": "stderr",
     "output_type": "stream",
     "text": [
      "100%|███████████████████████████████████████████| 20/20 [00:29<00:00,  1.48s/it]\n"
     ]
    },
    {
     "name": "stdout",
     "output_type": "stream",
     "text": [
      "total run-time is 29.511913061141968\n",
      "Iteration # 82\n",
      "best round score: 1.027\n",
      "average score: 0.773\n",
      "Count small = 2\n"
     ]
    },
    {
     "name": "stderr",
     "output_type": "stream",
     "text": [
      "100%|███████████████████████████████████████████| 20/20 [00:29<00:00,  1.47s/it]\n"
     ]
    },
    {
     "name": "stdout",
     "output_type": "stream",
     "text": [
      "total run-time is 29.456152200698853\n",
      "Iteration # 83\n",
      "best round score: 1.172\n",
      "average score: 0.902\n",
      "Count small = 2\n"
     ]
    },
    {
     "name": "stderr",
     "output_type": "stream",
     "text": [
      "100%|███████████████████████████████████████████| 20/20 [00:29<00:00,  1.49s/it]\n"
     ]
    },
    {
     "name": "stdout",
     "output_type": "stream",
     "text": [
      "total run-time is 29.708741903305054\n",
      "Iteration # 84\n",
      "best round score: 1.172\n",
      "average score: 0.826\n",
      "Count small = 2\n"
     ]
    },
    {
     "name": "stderr",
     "output_type": "stream",
     "text": [
      "100%|███████████████████████████████████████████| 20/20 [00:29<00:00,  1.48s/it]\n"
     ]
    },
    {
     "name": "stdout",
     "output_type": "stream",
     "text": [
      "total run-time is 29.60403609275818\n",
      "Iteration # 85\n",
      "best round score: 1.027\n",
      "average score: 0.768\n",
      "Count small = 2\n"
     ]
    },
    {
     "name": "stderr",
     "output_type": "stream",
     "text": [
      "100%|███████████████████████████████████████████| 20/20 [00:29<00:00,  1.50s/it]\n"
     ]
    },
    {
     "name": "stdout",
     "output_type": "stream",
     "text": [
      "total run-time is 29.916091680526733\n",
      "Iteration # 86\n",
      "best round score: 1.172\n",
      "average score: 0.868\n",
      "Count small = 2\n"
     ]
    },
    {
     "name": "stderr",
     "output_type": "stream",
     "text": [
      "100%|███████████████████████████████████████████| 20/20 [00:29<00:00,  1.48s/it]\n"
     ]
    },
    {
     "name": "stdout",
     "output_type": "stream",
     "text": [
      "total run-time is 29.695394039154053\n",
      "Iteration # 87\n",
      "best round score: 1.172\n",
      "average score: 0.822\n",
      "Count small = 2\n"
     ]
    },
    {
     "name": "stderr",
     "output_type": "stream",
     "text": [
      "100%|███████████████████████████████████████████| 20/20 [00:29<00:00,  1.48s/it]\n"
     ]
    },
    {
     "name": "stdout",
     "output_type": "stream",
     "text": [
      "total run-time is 29.697720050811768\n",
      "Iteration # 88\n",
      "best round score: 1.172\n",
      "average score: 0.838\n",
      "Count small = 2\n"
     ]
    },
    {
     "name": "stderr",
     "output_type": "stream",
     "text": [
      "100%|███████████████████████████████████████████| 20/20 [00:29<00:00,  1.47s/it]\n"
     ]
    },
    {
     "name": "stdout",
     "output_type": "stream",
     "text": [
      "total run-time is 29.503319025039673\n",
      "Iteration # 89\n",
      "best round score: 1.172\n",
      "average score: 0.856\n",
      "Count small = 2\n"
     ]
    },
    {
     "name": "stderr",
     "output_type": "stream",
     "text": [
      "100%|███████████████████████████████████████████| 20/20 [00:29<00:00,  1.48s/it]\n"
     ]
    },
    {
     "name": "stdout",
     "output_type": "stream",
     "text": [
      "total run-time is 29.667907238006592\n",
      "Iteration # 90\n",
      "best round score: 1.172\n",
      "average score: 0.847\n",
      "Count small = 2\n"
     ]
    },
    {
     "name": "stderr",
     "output_type": "stream",
     "text": [
      "100%|███████████████████████████████████████████| 20/20 [00:29<00:00,  1.48s/it]\n"
     ]
    },
    {
     "name": "stdout",
     "output_type": "stream",
     "text": [
      "total run-time is 29.619334936141968\n",
      "Iteration # 91\n",
      "best round score: 1.172\n",
      "average score: 0.94\n",
      "Count small = 2\n"
     ]
    },
    {
     "name": "stderr",
     "output_type": "stream",
     "text": [
      "100%|███████████████████████████████████████████| 20/20 [00:29<00:00,  1.49s/it]\n"
     ]
    },
    {
     "name": "stdout",
     "output_type": "stream",
     "text": [
      "total run-time is 29.84466314315796\n",
      "Iteration # 92\n",
      "best round score: 1.172\n",
      "average score: 0.832\n",
      "Count small = 2\n"
     ]
    },
    {
     "name": "stderr",
     "output_type": "stream",
     "text": [
      "100%|███████████████████████████████████████████| 20/20 [00:29<00:00,  1.47s/it]\n"
     ]
    },
    {
     "name": "stdout",
     "output_type": "stream",
     "text": [
      "total run-time is 29.4093759059906\n",
      "Iteration # 93\n",
      "best round score: 1.172\n",
      "average score: 0.835\n",
      "Count small = 2\n"
     ]
    },
    {
     "name": "stderr",
     "output_type": "stream",
     "text": [
      "100%|███████████████████████████████████████████| 20/20 [00:29<00:00,  1.50s/it]\n"
     ]
    },
    {
     "name": "stdout",
     "output_type": "stream",
     "text": [
      "total run-time is 29.938642978668213\n",
      "Iteration # 94\n",
      "best round score: 1.172\n",
      "average score: 0.886\n",
      "Count small = 2\n"
     ]
    },
    {
     "name": "stderr",
     "output_type": "stream",
     "text": [
      "100%|███████████████████████████████████████████| 20/20 [00:29<00:00,  1.48s/it]\n"
     ]
    },
    {
     "name": "stdout",
     "output_type": "stream",
     "text": [
      "total run-time is 29.63799810409546\n",
      "Iteration # 95\n",
      "best round score: 1.172\n",
      "average score: 0.813\n",
      "Count small = 2\n"
     ]
    },
    {
     "name": "stderr",
     "output_type": "stream",
     "text": [
      "100%|███████████████████████████████████████████| 20/20 [00:29<00:00,  1.49s/it]\n"
     ]
    },
    {
     "name": "stdout",
     "output_type": "stream",
     "text": [
      "total run-time is 29.81154704093933\n",
      "Iteration # 96\n",
      "best round score: 1.172\n",
      "average score: 0.872\n",
      "Count small = 2\n"
     ]
    },
    {
     "name": "stderr",
     "output_type": "stream",
     "text": [
      "100%|███████████████████████████████████████████| 20/20 [00:29<00:00,  1.49s/it]\n"
     ]
    },
    {
     "name": "stdout",
     "output_type": "stream",
     "text": [
      "total run-time is 29.732743978500366\n",
      "Iteration # 97\n",
      "best round score: 1.172\n",
      "average score: 0.877\n",
      "Count small = 2\n"
     ]
    },
    {
     "name": "stderr",
     "output_type": "stream",
     "text": [
      "100%|███████████████████████████████████████████| 20/20 [00:29<00:00,  1.47s/it]\n"
     ]
    },
    {
     "name": "stdout",
     "output_type": "stream",
     "text": [
      "total run-time is 29.50078511238098\n",
      "Iteration # 98\n",
      "best round score: 1.172\n",
      "average score: 0.826\n",
      "Count small = 2\n"
     ]
    },
    {
     "name": "stderr",
     "output_type": "stream",
     "text": [
      "100%|███████████████████████████████████████████| 20/20 [00:29<00:00,  1.48s/it]\n"
     ]
    },
    {
     "name": "stdout",
     "output_type": "stream",
     "text": [
      "total run-time is 29.64552330970764\n",
      "Iteration # 99\n",
      "best round score: 1.172\n",
      "average score: 0.875\n",
      "Count small = 2\n"
     ]
    },
    {
     "name": "stderr",
     "output_type": "stream",
     "text": [
      "100%|███████████████████████████████████████████| 20/20 [00:29<00:00,  1.49s/it]\n"
     ]
    },
    {
     "name": "stdout",
     "output_type": "stream",
     "text": [
      "total run-time is 29.851699829101562\n",
      "Iteration # 100\n",
      "best round score: 1.172\n",
      "average score: 0.878\n",
      "Count small = 2\n",
      "Maximal allowed number of iterations is reached\n",
      "best  score: 1.192858969689347\n",
      "best  score after LS: 1.4631966203870177\n"
     ]
    }
   ],
   "source": [
    "#checking the robustness of the method\n",
    "#should be run and saved 5-10 times !\n",
    "model = BiCoN(GE,G,L_g_min,L_g_max)\n",
    "solution,scores = model.run_search()"
   ]
  },
  {
   "cell_type": "code",
   "execution_count": 11,
   "metadata": {
    "scrolled": true
   },
   "outputs": [
    {
     "name": "stdout",
     "output_type": "stream",
     "text": [
      "['54512', '6142']\n",
      "['5495', '9212', '5925', '8349', '55193', '23038', '9557']\n"
     ]
    }
   ],
   "source": [
    "results = results_analysis(solution, labels)\n",
    "print(results.genes1)#genes in the first cluster\n",
    "print(results.genes2)#genes in the second cluster"
   ]
  },
  {
   "cell_type": "code",
   "execution_count": 12,
   "metadata": {},
   "outputs": [
    {
     "data": {
      "image/png": "[encoded data removed]",
      "text/plain": [
       "<Figure size 1500x1000 with 6 Axes>"
      ]
     },
     "metadata": {},
     "output_type": "display_data"
    },
    {
     "data": {
      "image/png": "[encoded data removed]",
      "text/plain": [
       "<Figure size 1500x1500 with 2 Axes>"
      ]
     },
     "metadata": {},
     "output_type": "display_data"
    }
   ],
   "source": [
    "results = results_analysis(solution, labels, convert = True, origID = \"entrezgene\")\n",
    "results.save(output = \"/Users/yazgisert/Desktop/tez/results_trans/run8.csv\")\n",
    "results.show_clustermap(GE, G,output = \"/Users/yazgisert/Desktop/tez/results_trans/clustermap.png\")\n",
    "results.show_networks(GE, G, output = \"/Users/yazgisert/Desktop/tez/results_trans/network.png\")"
   ]
  },
  {
   "cell_type": "code",
   "execution_count": null,
   "metadata": {},
   "outputs": [],
   "source": []
  }
 ],
 "metadata": {
  "kernelspec": {
   "display_name": "Python 3",
   "language": "python",
   "name": "python3"
  },
  "language_info": {
   "codemirror_mode": {
    "name": "ipython",
    "version": 3
   },
   "file_extension": ".py",
   "mimetype": "text/x-python",
   "name": "python",
   "nbconvert_exporter": "python",
   "pygments_lexer": "ipython3",
   "version": "3.8.3"
  }
 },
 "nbformat": 4,
 "nbformat_minor": 5
}
