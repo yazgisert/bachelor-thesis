{
 "cells": [
  {
   "cell_type": "code",
   "execution_count": 1,
   "metadata": {},
   "outputs": [
    {
     "name": "stdout",
     "output_type": "stream",
     "text": [
      "Original number of genes: 27746\n"
     ]
    }
   ],
   "source": [
    "import numpy as np\n",
    "import pandas as pd\n",
    "from scipy import stats\n",
    "\n",
    "def filter_genes(path_exprs, log2=True, zscores=True, size=2000):\n",
    "\n",
    "    exprs = pd.read_csv(path_exprs, sep=',', index_col=0) \n",
    "    print(\"Original number of genes:\", exprs.shape[0])\n",
    "    \n",
    "    if log2:\n",
    "        minimal = exprs.min().min()\n",
    "        if minimal <= 0:\n",
    "            exprs += np.abs(minimal - 1)\n",
    "        exprs = np.log2(exprs)\n",
    "\n",
    "    top = exprs.std(axis=1).nlargest(size).index\n",
    "    exprs = exprs.loc[top]\n",
    "\n",
    "    if zscores:\n",
    "        exprs = pd.DataFrame(stats.zscore(exprs, axis=1), index=exprs.index, columns=exprs.columns)\n",
    "\n",
    "    return exprs\n",
    "\n",
    "exprs = filter_genes('/Users/yazgisert/Desktop/tez/last_tcga_Kallisto.csv')\n",
    "exprs.to_csv ('/Users/yazgisert/Desktop/transcript_top_2000.csv')\n",
    "\n"
   ]
  }
 ],
 "metadata": {
  "kernelspec": {
   "display_name": "Python 3",
   "language": "python",
   "name": "python3"
  },
  "language_info": {
   "codemirror_mode": {
    "name": "ipython",
    "version": 3
   },
   "file_extension": ".py",
   "mimetype": "text/x-python",
   "name": "python",
   "nbconvert_exporter": "python",
   "pygments_lexer": "ipython3",
   "version": "3.8.3"
  }
 },
 "nbformat": 4,
 "nbformat_minor": 4
}
