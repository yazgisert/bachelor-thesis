{
 "cells": [
  {
   "cell_type": "code",
   "execution_count": 20,
   "metadata": {},
   "outputs": [],
   "source": [
    "import pandas as pd\n",
    "\n",
    "\n",
    "input_data = pd.ExcelFile('/Users/yazgisert/Desktop/tez/MOSBI/MOSBI_transcript/together/biclusters_5ef71ae96f4b262e1246e636e7aba503.xlsx')\n",
    "\n",
    "id_frequencies = {}\n",
    "\n",
    "for sheet_name in input_data.sheet_names:\n",
    "    sheet_data = input_data.parse(sheet_name)\n",
    "    if 'X1' not in sheet_data.columns:\n",
    "        print(f\"Column 'X1' not found in {sheet_name}.\")\n",
    "        continue\n",
    "    \n",
    "    id_counts = sheet_data['X1'].value_counts().to_dict()\n",
    "\n",
    "    for id_value, count in id_counts.items():\n",
    "        id_frequencies[id_value] = id_frequencies.get(id_value, 0) + count\n",
    "\n",
    "\n",
    "id_frequencies_df = pd.DataFrame(list(id_frequencies.items()), columns=['ID', 'Frequency'])\n",
    "id_frequencies_df.to_csv('/Users/yazgisert/Desktop/tez/MOSBI/MOSBI_transcript/together/id_frequencies.csv', index=False)\n"
   ]
  },
  {
   "cell_type": "code",
   "execution_count": 21,
   "metadata": {},
   "outputs": [
    {
     "name": "stdout",
     "output_type": "stream",
     "text": [
      "The Excel file has 489 sheet(s).\n"
     ]
    }
   ],
   "source": [
    "input_data = pd.ExcelFile('/Users/yazgisert/Desktop/tez/MOSBI/MOSBI_transcript/together/biclusters_5ef71ae96f4b262e1246e636e7aba503.xlsx')\n",
    "\n",
    "sheet_names = input_data.sheet_names\n",
    "\n",
    "print(f\"The Excel file has {len(sheet_names)} sheet(s).\")\n"
   ]
  },
  {
   "cell_type": "code",
   "execution_count": 23,
   "metadata": {},
   "outputs": [
    {
     "name": "stdout",
     "output_type": "stream",
     "text": [
      "Top 10 IDs with highest frequencies:\n",
      "             ID  Frequency\n",
      "19    100873980        101\n",
      "169       27290         98\n",
      "123      644844         97\n",
      "47       128822         96\n",
      "940   100847015         95\n",
      "136      327657         94\n",
      "727      643714         94\n",
      "717       79782         92\n",
      "143   105447648         92\n",
      "1073  105375623         90\n",
      "116        1473         87\n",
      "765      389332         84\n",
      "860      574444         84\n",
      "48       128821         83\n",
      "754      440184         82\n",
      "753         866         82\n",
      "77    107986480         82\n",
      "1144  100126355         80\n",
      "117   100507584         78\n",
      "154   100508046         78\n",
      "926        3359         77\n",
      "130   100130148         77\n",
      "780      220082         76\n",
      "744      127254         75\n",
      "240        5167         74\n",
      "891      442903         73\n",
      "728      644672         72\n",
      "182      116379         72\n"
     ]
    }
   ],
   "source": [
    "id_frequencies_df = pd.read_csv('/Users/yazgisert/Desktop/tez/MOSBI/MOSBI_transcript/together/id_frequencies.csv')\n",
    "\n",
    "sorted_id_frequencies_df = id_frequencies_df.sort_values(by='Frequency', ascending=False)\n",
    "top_10_ids_df = sorted_id_frequencies_df.head(28)\n",
    "print(\"Top 10 IDs with highest frequencies:\")\n",
    "print(top_10_ids_df)\n",
    "\n",
    "top_10_ids_df.to_csv('/Users/yazgisert/Desktop/tez/MOSBI/MOSBI_transcript/together/top_28_ids.csv', index=False)\n"
   ]
  },
  {
   "cell_type": "code",
   "execution_count": null,
   "metadata": {},
   "outputs": [],
   "source": []
  },
  {
   "cell_type": "code",
   "execution_count": 11,
   "metadata": {},
   "outputs": [],
   "source": [
    "\n",
    "input_data = pd.ExcelFile('/Users/yazgisert/Desktop/tez/MOSBI/MOSBI_all_trans/together/biclusters_2ff0ea4ea2697616253d1d55db657798.xlsx')\n",
    "\n",
    "id_frequencies = {}\n",
    "\n",
    "for sheet_name in input_data.sheet_names:\n",
    "    sheet_data = input_data.parse(sheet_name)\n",
    "\n",
    "    if 'X1' in sheet_data.columns:\n",
    "        id_counts = sheet_data['X1'].value_counts().to_dict()\n",
    "\n",
    "        for id_value, count in id_counts.items():\n",
    "            id_frequencies[id_value] = id_frequencies.get(id_value, 0) + count\n",
    "\n",
    "\n",
    "id_frequencies_df = pd.DataFrame(list(id_frequencies.items()), columns=['ID', 'Frequency'])\n",
    "\n",
    "id_frequencies_df.to_csv('/Users/yazgisert/Desktop/tez/MOSBI/MOSBI_all_trans/together/id_frequencies.csv', index=False)\n"
   ]
  },
  {
   "cell_type": "code",
   "execution_count": 12,
   "metadata": {},
   "outputs": [
    {
     "name": "stdout",
     "output_type": "stream",
     "text": [
      "The Excel file has 264 sheet(s).\n"
     ]
    }
   ],
   "source": [
    "input_data = pd.ExcelFile('/Users/yazgisert/Desktop/tez/MOSBI/MOSBI_all_trans/together/biclusters_2ff0ea4ea2697616253d1d55db657798.xlsx')\n",
    "\n",
    "sheet_names = input_data.sheet_names\n",
    "\n",
    "print(f\"The Excel file has {len(sheet_names)} sheet(s).\")"
   ]
  },
  {
   "cell_type": "code",
   "execution_count": 15,
   "metadata": {},
   "outputs": [
    {
     "name": "stdout",
     "output_type": "stream",
     "text": [
      "Top 15 IDs with highest frequencies:\n",
      "                  ID  Frequency\n",
      "177  ENST00000426638        121\n",
      "267  ENST00000255175        121\n",
      "518  ENST00000502717        120\n",
      "256  ENST00000259119        120\n",
      "484  ENST00000534661        112\n",
      "445  ENST00000406622        109\n",
      "325  ENST00000630471        106\n",
      "204  ENST00000604879        101\n",
      "338  ENST00000631959        101\n",
      "280  ENST00000456699         99\n",
      "508  ENST00000428014         96\n",
      "166  ENST00000425518         95\n",
      "80   ENST00000538565         92\n",
      "54   ENST00000373206         92\n",
      "367  ENST00000528774         92\n",
      "35   ENST00000524698         91\n",
      "324  ENST00000446293         90\n",
      "244  ENST00000427894         88\n",
      "224  ENST00000456471         88\n",
      "374  ENST00000534980         84\n",
      "332  ENST00000623481         84\n",
      "113  ENST00000217130         84\n",
      "40   ENST00000375972         84\n",
      "407  ENST00000474875         82\n",
      "273  ENST00000341558         81\n",
      "173  ENST00000461010         81\n",
      "238  ENST00000541696         80\n",
      "18   ENST00000473939         80\n"
     ]
    }
   ],
   "source": [
    "id_frequencies_df = pd.read_csv('/Users/yazgisert/Desktop/tez/MOSBI/MOSBI_all_trans/together/id_frequencies.csv')\n",
    "\n",
    "sorted_id_frequencies_df = id_frequencies_df.sort_values(by='Frequency', ascending=False)\n",
    "\n",
    "top_15_ids_df = sorted_id_frequencies_df.head(28)\n",
    "\n",
    "print(\"Top 15 IDs with highest frequencies:\")\n",
    "print(top_15_ids_df)\n",
    "\n",
    "top_15_ids_df.to_csv('/Users/yazgisert/Desktop/tez/MOSBI/MOSBI_all_trans/together/top_28_ids.csv', index=False)\n"
   ]
  },
  {
   "cell_type": "code",
   "execution_count": null,
   "metadata": {},
   "outputs": [],
   "source": []
  }
 ],
 "metadata": {
  "kernelspec": {
   "display_name": "Python 3",
   "language": "python",
   "name": "python3"
  },
  "language_info": {
   "codemirror_mode": {
    "name": "ipython",
    "version": 3
   },
   "file_extension": ".py",
   "mimetype": "text/x-python",
   "name": "python",
   "nbconvert_exporter": "python",
   "pygments_lexer": "ipython3",
   "version": "3.8.3"
  }
 },
 "nbformat": 4,
 "nbformat_minor": 4
}
