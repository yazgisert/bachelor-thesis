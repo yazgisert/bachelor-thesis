{
 "cells": [
  {
   "cell_type": "code",
   "execution_count": 2,
   "metadata": {},
   "outputs": [],
   "source": [
    "import csv\n",
    "\n",
    "def tsv_to_csv(input_tsv, output_csv):\n",
    "    with open(input_tsv, 'r', newline='', encoding='utf-8') as tsvfile, \\\n",
    "            open(output_csv, 'w', newline='', encoding='utf-8') as csvfile:\n",
    "       \n",
    "        tsvread = csv.reader(tsvfile, delimiter='\\t')\n",
    "\n",
    "        csvwrite = csv.writer(csvfile)\n",
    "\n",
    "        for row in tsvread:\n",
    "            csvwrite.writerow(row)\n",
    "\n",
    "\n",
    "tsv_file = '/Users/yazgisert/Desktop/Human_DCM_EMB_metadata'\n",
    "csv_file = '/Users/yazgisert/Desktop/Human_DCM_EMB_metadata.csv'\n",
    "tsv_to_csv(tsv_file, csv_file)\n"
   ]
  },
  {
   "cell_type": "code",
   "execution_count": null,
   "metadata": {},
   "outputs": [],
   "source": []
  },
  {
   "cell_type": "code",
   "execution_count": null,
   "metadata": {},
   "outputs": [],
   "source": []
  }
 ],
 "metadata": {
  "kernelspec": {
   "display_name": "Python 3",
   "language": "python",
   "name": "python3"
  },
  "language_info": {
   "codemirror_mode": {
    "name": "ipython",
    "version": 3
   },
   "file_extension": ".py",
   "mimetype": "text/x-python",
   "name": "python",
   "nbconvert_exporter": "python",
   "pygments_lexer": "ipython3",
   "version": "3.8.3"
  }
 },
 "nbformat": 4,
 "nbformat_minor": 4
}
