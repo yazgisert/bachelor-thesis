{
 "cells": [
  {
   "cell_type": "code",
   "execution_count": null,
   "metadata": {},
   "outputs": [],
   "source": [
    "file_names = [\n",
    "    \"/Users/yazgisert/Desktop/Thesis_Results/BiCoN Breast Cancer Gene Results/run1.csv\",\n",
    "    \"/Users/yazgisert/Desktop/Thesis_Results/BiCoN Breast Cancer Gene Results/run2.csv\",\n",
    "    \"/Users/yazgisert/Desktop/Thesis_Results/BiCoN Breast Cancer Gene Results/run3.csv\",\n",
    "    \"/Users/yazgisert/Desktop/Thesis_Results/BiCoN Breast Cancer Gene Results/run4.csv\",\n",
    "    \"/Users/yazgisert/Desktop/Thesis_Results/BiCoN Breast Cancer Gene Results/run5.csv\",\n",
    "    \"/Users/yazgisert/Desktop/Thesis_Results/BiCoN Breast Cancer Gene Results/run6.csv\",\n",
    "    \"/Users/yazgisert/Desktop/Thesis_Results/BiCoN Breast Cancer Gene Results/run7.csv\"\n",
    "]\n",
    "\n",
    "new_gene_counts = {}\n",
    "\n",
    "for file_name in file_names:\n",
    "    data = pd.read_csv(file_name)\n",
    "\n",
    "    genes = (data['genes1'].str.cat(data['genes2'], sep='|').str.split('|').explode().dropna().values)\n",
    "\n",
    "    for gene in genes:\n",
    "        if gene in gene_counts:\n",
    "            gene_counts[gene] += 1\n",
    "        else:\n",
    "            gene_counts[gene] = 1\n",
    "\n",
    "gene_counts_df = pd.DataFrame(list(new_gene_counts.items()), columns=['Gene', 'Count'])\n",
    "\n",
    "output_file = \"/Users/yazgisert/Desktop/Thesis_Results/BiCoN Breast Cancer Gene Results/gene_counts.xlsx\"\n",
    "gene_counts_df.to_excel(new_output_file, index=False)\n",
    "\n",
    "output_file\n"
   ]
  },
  {
   "cell_type": "code",
   "execution_count": null,
   "metadata": {},
   "outputs": [],
   "source": [
    "isoform_counts_df = pd.read_excel(\"path/to/gene_counts_isoform.xlsx\")\n",
    "gene_counts_df = pd.read_excel(\"path/to/gene_counts.xlsx\")\n",
    "\n",
    "common_genes_fre1 = pd.merge(\n",
    "    isoform_counts_df[isoform_counts_df['Count'] == 4],\n",
    "    gene_counts_df[gene_counts_df['Count'] == 4],\n",
    "    on='Gene',\n",
    "    suffixes=('_isoform', '_original')\n",
    ")\n",
    "\n",
    "print(common_genes_freq)"
   ]
  }
 ],
 "metadata": {
  "kernelspec": {
   "display_name": "Python 3",
   "language": "python",
   "name": "python3"
  },
  "language_info": {
   "codemirror_mode": {
    "name": "ipython",
    "version": 3
   },
   "file_extension": ".py",
   "mimetype": "text/x-python",
   "name": "python",
   "nbconvert_exporter": "python",
   "pygments_lexer": "ipython3",
   "version": "3.8.3"
  }
 },
 "nbformat": 4,
 "nbformat_minor": 4
}
