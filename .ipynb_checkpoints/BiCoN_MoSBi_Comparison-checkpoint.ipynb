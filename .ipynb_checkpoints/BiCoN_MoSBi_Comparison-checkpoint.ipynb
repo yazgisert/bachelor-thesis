{
 "cells": [
  {
   "cell_type": "code",
   "execution_count": 4,
   "metadata": {
    "scrolled": false
   },
   "outputs": [
    {
     "name": "stdout",
     "output_type": "stream",
     "text": [
      "Gene Name: LNPEP, NCBI ID: 4012.0\n",
      "Gene Name: TRIM37, NCBI ID: 4591.0\n",
      "Gene Name: ITSN1, NCBI ID: 6453.0\n",
      "Gene Name: UBE3C, NCBI ID: 9690.0\n",
      "Gene Name: CEP350, NCBI ID: 9857.0\n",
      "Gene Name: MTMR9, NCBI ID: 66036.0\n",
      "Gene Name: RPS7, NCBI ID: 6201.0\n",
      "Gene Name: RPL13, NCBI ID: 6137.0\n",
      "Gene Name: SUZ12, NCBI ID: 23512.0\n",
      "Gene Name: USP46, NCBI ID: 64854.0\n",
      "Gene Name: CAND1, NCBI ID: 55832.0\n",
      "Gene Name: ATL3, NCBI ID: 25923.0\n",
      "Gene Name: DUSP3, NCBI ID: 1845.0\n",
      "Gene Name: MED13, NCBI ID: 9969.0\n",
      "Gene Name: RBBP6, NCBI ID: 5930.0\n",
      "Gene Name: NCBP1, NCBI ID: 4686.0\n",
      "Gene Name: ZNF609, NCBI ID: 23060.0\n",
      "Gene Name: RYBP, NCBI ID: 23429.0\n",
      "Gene Name: GPATCH8, NCBI ID: 23131.0\n",
      "Gene Name: PPP1R13B, NCBI ID: 23368.0\n",
      "Gene Name: ZC3H13, NCBI ID: 23091.0\n",
      "Gene Name: CUL5, NCBI ID: 8065.0\n",
      "Gene Name: MIB1, NCBI ID: 57534.0\n",
      "Gene Name: NBN, NCBI ID: 4683.0\n",
      "Gene Name: ACTB, NCBI ID: 60.0\n",
      "Gene Name: RPL35, NCBI ID: 11224.0\n",
      "Gene Name: CGGBP1, NCBI ID: 8545.0\n",
      "Gene Name: LATS1, NCBI ID: 9113.0\n"
     ]
    }
   ],
   "source": [
    "import pandas as pd\n",
    "\n",
    "df = pd.read_csv('/Users/yazgisert/Desktop/tez/mart_export_w_genename.csv')\n",
    "\n",
    "# Function to extract NCBI ID for a given gene name\n",
    "def extract_ncbi_id(gene_name):\n",
    "    ncbi_id = df.loc[df['Gene name'] == gene_name, 'NCBI gene (formerly Entrezgene) ID'].values\n",
    "    if len(ncbi_id) > 0:\n",
    "        return ncbi_id[0]\n",
    "    else:\n",
    "        return \"NCBI ID not found for {}\".format(gene_name)\n",
    "\n",
    "gene_names = ['LNPEP', 'TRIM37', 'ITSN1', 'UBE3C', 'CEP350', 'MTMR9', 'RPS7', 'RPL13', 'SUZ12', 'USP46', 'CAND1',\n",
    "             'ATL3', 'DUSP3', 'MED13', 'RBBP6', 'NCBP1', 'ZNF609', 'RYBP', 'GPATCH8', 'PPP1R13B', \n",
    "             'ZC3H13','CUL5', 'MIB1', 'NBN', 'ACTB', 'RPL35', 'CGGBP1', 'LATS1']  \n",
    "\n",
    "for gene_name in gene_names:\n",
    "    ncbi_id = extract_ncbi_id(gene_name)\n",
    "    print(f\"Gene Name: {gene_name}, NCBI ID: {ncbi_id}\")\n"
   ]
  },
  {
   "cell_type": "code",
   "execution_count": 7,
   "metadata": {},
   "outputs": [],
   "source": [
    "def extract_rows(input_file, output_file,ids):\n",
    "    df = pd.read_csv(input_file)\n",
    "    \n",
    "    filtered_df = df[df['sample'].isin(ids)]\n",
    "    \n",
    "    filtered_df.to_csv(output_file, index=False)\n",
    "\n",
    "\n",
    "input_file = '/Users/yazgisert/Desktop/tez/filtered_tcga_RSEM_gene_tpm(modified).csv' \n",
    "output_file = '/Users/yazgisert/Desktop/bicon_for_mosbi.csv' \n",
    "ids = [90480,6158,10236,5430,8539,3799,4763,8697,1399,11127,27072,10845,23196,25873,81542] \n",
    "\n",
    "extract_rows(input_file, output_file, ids)\n"
   ]
  },
  {
   "cell_type": "code",
   "execution_count": null,
   "metadata": {},
   "outputs": [],
   "source": []
  }
 ],
 "metadata": {
  "kernelspec": {
   "display_name": "Python 3",
   "language": "python",
   "name": "python3"
  },
  "language_info": {
   "codemirror_mode": {
    "name": "ipython",
    "version": 3
   },
   "file_extension": ".py",
   "mimetype": "text/x-python",
   "name": "python",
   "nbconvert_exporter": "python",
   "pygments_lexer": "ipython3",
   "version": "3.8.3"
  }
 },
 "nbformat": 4,
 "nbformat_minor": 4
}
