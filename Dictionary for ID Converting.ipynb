{
 "cells": [
  {
   "cell_type": "code",
   "execution_count": 33,
   "metadata": {},
   "outputs": [],
   "source": [
    "import pandas as pd\n",
    "\n",
    "dataframe = pd.read_csv('/Users/yazgisert/Desktop/tez/filtered_tcga_RSEM_gene_tpm.csv')\n",
    "\n",
    "ensid = dataframe.iloc[:, 1]\n",
    "\n",
    "ensemble_ids = ensid.tolist()\n"
   ]
  },
  {
   "cell_type": "code",
   "execution_count": 34,
   "metadata": {},
   "outputs": [],
   "source": [
    "entries = {}\n",
    "\n",
    "for value in ensemble_ids:\n",
    "    entry = value.split(\".\")[0]\n",
    "    entries.update({entry:-1})"
   ]
  },
  {
   "cell_type": "code",
   "execution_count": 35,
   "metadata": {
    "scrolled": false
   },
   "outputs": [],
   "source": [
    "with open('/Users/yazgisert/Desktop/tez/mart_export.csv', 'r') as file:\n",
    "    row = file.readline()\n",
    "    \n",
    "    while row:\n",
    "        row = row.strip()\n",
    "        cols = row.split(',')\n",
    "        if entries.get(cols[0]) == -1:\n",
    "            entries.update({cols[0]: cols[-1]})\n",
    "        row = file.readline()\n",
    "        \n",
    "entries = {key: value for key, value in entries.items() if value != -1 and value != ''}\n"
   ]
  },
  {
   "cell_type": "code",
   "execution_count": null,
   "metadata": {},
   "outputs": [],
   "source": [
    "dataframe[\"sample\"] = dataframe[\"sample\"].map(lambda x: x.split(\".\")[0]).map(entries)\n",
    "dataframe = dataframe.dropna(subset=[\"sample\"])\n",
    "dataframe = dataframe.drop(\"Unnamed: 0\", axis=1)\n",
    "\n",
    "\n",
    "dataframe.to_csv('/Users/yazgisert/Desktop/tez/filtered_tcga_RSEM_gene_tpm(modified).csv', index=False)"
   ]
  },
  {
   "cell_type": "code",
   "execution_count": 32,
   "metadata": {},
   "outputs": [
    {
     "name": "stdout",
     "output_type": "stream",
     "text": [
      "          sample  TCGA-C8-A1HL-01  TCGA-EW-A2FS-01  TCGA-A2-A3XX-01  \\\n",
      "0      100507661          -9.9658          -9.9658          -4.6082   \n",
      "2      105372097          -9.9658          -5.0116          -4.6082   \n",
      "3          53916           4.9782           5.7035           4.8734   \n",
      "5          57103           2.6624           1.2696           1.5998   \n",
      "6      104472717           2.0535           0.4447          -5.5735   \n",
      "...          ...              ...              ...              ...   \n",
      "60488      10178          -6.5064          -3.0469          -5.5735   \n",
      "60491      55509           1.0293           1.4600           2.0707   \n",
      "60494      22870           4.4095           4.4081           4.1078   \n",
      "60495  101927377          -5.0116          -1.8836          -1.1811   \n",
      "60497     338662          -9.9658          -9.9658          -9.9658   \n",
      "\n",
      "       TCGA-Z7-A8R5-01  TCGA-B6-A0RL-01  TCGA-E2-A2P6-01  TCGA-AO-A1KT-01  \\\n",
      "0              -9.9658          -9.9658          -9.9658          -5.0116   \n",
      "2              -6.5064          -6.5064          -9.9658          -9.9658   \n",
      "3               5.4973           5.0343           5.7461           4.6793   \n",
      "5               1.3846           1.2455           1.5998           2.4492   \n",
      "6              -4.2934          -4.2934           2.3677           2.9300   \n",
      "...                ...              ...              ...              ...   \n",
      "60488          -4.6082          -5.5735          -5.5735          -1.9379   \n",
      "60491           2.8522          -1.2828           0.7407           2.8482   \n",
      "60494           4.4900           5.9510           4.7501           4.7549   \n",
      "60495          -1.6394          -1.7809          -2.1779          -2.3147   \n",
      "60497          -9.9658          -9.9658          -9.9658          -9.9658   \n",
      "\n",
      "       TCGA-E9-A3HO-01  TCGA-D8-A1XJ-01  ...  TCGA-AO-A12C-01  \\\n",
      "0              -9.9658          -5.0116  ...          -9.9658   \n",
      "2              -9.9658          -4.6082  ...          -9.9658   \n",
      "3               5.6450           3.7982  ...           3.9365   \n",
      "5               0.6517           3.4609  ...           1.6695   \n",
      "6              -3.3076           0.0440  ...          -6.5064   \n",
      "...                ...              ...  ...              ...   \n",
      "60488          -5.5735          -2.7274  ...          -4.6082   \n",
      "60491           0.8568          -0.2159  ...          -0.1665   \n",
      "60494           4.9472           5.3851  ...           6.1210   \n",
      "60495          -0.9132          -0.5125  ...          -3.8160   \n",
      "60497          -9.9658          -9.9658  ...          -9.9658   \n",
      "\n",
      "       TCGA-OL-A97C-01  TCGA-BH-A18G-01  TCGA-B6-A0IA-01  TCGA-A8-A090-01  \\\n",
      "0              -9.9658          -9.9658          -9.9658          -9.9658   \n",
      "2              -9.9658          -5.5735          -5.0116          -9.9658   \n",
      "3               4.8334           4.3793           6.5501           5.5503   \n",
      "5               2.3592           0.4865           2.1411           2.9013   \n",
      "6              -0.5973          -9.9658           0.1648          -9.9658   \n",
      "...                ...              ...              ...              ...   \n",
      "60488           1.5415          -2.4659          -9.9658          -6.5064   \n",
      "60491           3.9599           1.0642           0.2154          -0.0574   \n",
      "60494           5.5479           4.0926           4.3053           5.3796   \n",
      "60495          -2.9324          -1.5951          -0.9971          -1.7322   \n",
      "60497          -9.9658          -9.9658          -9.9658          -9.9658   \n",
      "\n",
      "       TCGA-5T-A9QA-01  TCGA-AN-A0XT-01  TCGA-AO-A0J4-01  TCGA-A2-A0YK-01  \\\n",
      "0              -9.9658          -9.9658          -9.9658          -3.4580   \n",
      "2              -9.9658          -6.5064          -9.9658          -5.0116   \n",
      "3               5.5574           5.0505           4.7350           4.9626   \n",
      "5               3.3745           1.9149           3.4061           2.5804   \n",
      "6               1.3623           0.6517          -1.5522          -5.0116   \n",
      "...                ...              ...              ...              ...   \n",
      "60488          -9.9658          -6.5064          -3.3076          -1.3921   \n",
      "60491          -0.4131          -0.1504           1.6045           2.3308   \n",
      "60494           5.3593           4.9331           5.0348           5.1875   \n",
      "60495          -1.3548          -4.2934          -3.0469          -1.2828   \n",
      "60497          -9.9658          -9.9658          -9.9658          -9.9658   \n",
      "\n",
      "       TCGA-A8-A09K-01  \n",
      "0              -9.9658  \n",
      "2              -9.9658  \n",
      "3               5.5364  \n",
      "5               2.8219  \n",
      "6               0.4125  \n",
      "...                ...  \n",
      "60488          -3.4580  \n",
      "60491          -0.7346  \n",
      "60494           5.3667  \n",
      "60495          -2.6349  \n",
      "60497          -9.9658  \n",
      "\n",
      "[25337 rows x 1080 columns]\n"
     ]
    }
   ],
   "source": [
    "print(dataframe.drop(\"Unnamed: 0\", axis=1))"
   ]
  },
  {
   "cell_type": "code",
   "execution_count": null,
   "metadata": {},
   "outputs": [],
   "source": []
  }
 ],
 "metadata": {
  "kernelspec": {
   "display_name": "Python 3",
   "language": "python",
   "name": "python3"
  },
  "language_info": {
   "codemirror_mode": {
    "name": "ipython",
    "version": 3
   },
   "file_extension": ".py",
   "mimetype": "text/x-python",
   "name": "python",
   "nbconvert_exporter": "python",
   "pygments_lexer": "ipython3",
   "version": "3.8.3"
  }
 },
 "nbformat": 4,
 "nbformat_minor": 4
}
