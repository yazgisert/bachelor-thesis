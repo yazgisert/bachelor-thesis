{
 "cells": [
  {
   "cell_type": "code",
   "execution_count": 16,
   "metadata": {},
   "outputs": [],
   "source": [
    "#extracting individual sheets\n",
    "\n",
    "import openpyxl\n",
    "import os\n",
    "\n",
    "excel_file = '/Users/yazgisert/Desktop/tez/MOSBI/MOSBI_gene/together_new/biclusters_eb5449c74dfd20a0b810a5edffeba0bf.xlsx'\n",
    "wb = openpyxl.load_workbook(excel_file)\n",
    "\n",
    "sheet_name = \"bicluster331\"\n",
    "\n",
    "output_directory = os.path.dirname(excel_file)\n",
    "\n",
    "with open(f'{output_directory}/{sheet_name}_output.txt', 'w') as text_file:\n",
    "    if sheet_name in wb.sheetnames:\n",
    "        sheet = wb[sheet_name]\n",
    "\n",
    "        for row in sheet.iter_rows(min_row=2, max_col=1, values_only=True):\n",
    "            value = row[0]\n",
    "            text_file.write(str(value) + '\\n')\n",
    "\n",
    "wb.close()"
   ]
  },
  {
   "cell_type": "code",
   "execution_count": 54,
   "metadata": {},
   "outputs": [],
   "source": [
    "#extracting individual sheets\n",
    "\n",
    "import openpyxl\n",
    "import os\n",
    "\n",
    "excel_file = '/Users/yazgisert/Desktop/tez/MOSBI/MOSBI_transcript/together_new/biclusters_eb5449c74dfd20a0b810a5edffeba0bf.xlsx'\n",
    "wb = openpyxl.load_workbook(excel_file)\n",
    "\n",
    "sheet_name = \"bicluster314\"\n",
    "\n",
    "output_directory = os.path.dirname(excel_file)\n",
    "\n",
    "with open(f'{output_directory}/{sheet_name}_output.txt', 'w') as text_file:\n",
    "    if sheet_name in wb.sheetnames:\n",
    "        sheet = wb[sheet_name]\n",
    "\n",
    "        for row in sheet.iter_rows(min_row=2, max_col=1, values_only=True):\n",
    "            value = row[0]\n",
    "            text_file.write(str(value) + '\\n')\n",
    "\n",
    "wb.close()"
   ]
  },
  {
   "cell_type": "code",
   "execution_count": null,
   "metadata": {},
   "outputs": [],
   "source": []
  }
 ],
 "metadata": {
  "kernelspec": {
   "display_name": "Python 3",
   "language": "python",
   "name": "python3"
  },
  "language_info": {
   "codemirror_mode": {
    "name": "ipython",
    "version": 3
   },
   "file_extension": ".py",
   "mimetype": "text/x-python",
   "name": "python",
   "nbconvert_exporter": "python",
   "pygments_lexer": "ipython3",
   "version": "3.8.3"
  }
 },
 "nbformat": 4,
 "nbformat_minor": 4
}
