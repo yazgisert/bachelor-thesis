{
 "cells": [
  {
   "cell_type": "code",
   "execution_count": 2,
   "metadata": {
    "scrolled": true
   },
   "outputs": [
    {
     "name": "stdout",
     "output_type": "stream",
     "text": [
      "Duplicated gene names before dropping duplicates in the first column:\n",
      " Int64Index([124905522, 105377488, 102465909,      4101,     51326,    643707,\n",
      "            124900506,      1394, 124906377, 124902165,      9782,    255313,\n",
      "                29994, 124900356,    392188,    245908,    114794,    414245,\n",
      "               729873,      3963, 101927815,    221178, 124906683, 105376752,\n",
      "                 6284,    653145, 124904138,    440896,     54984, 102723927,\n",
      "                 8293,    474170,      9692,     57497,      1673, 105375358,\n",
      "                 6606, 124900632,      5554,     55894,    643836,    641367,\n",
      "            124904613,    255027,     10156,    552900,    245910, 124905172,\n",
      "               343563,    339822,      3117, 124905168,    440243,    286527,\n",
      "               653720, 102060414, 100652739, 124905307],\n",
      "           dtype='int64', name='sample')\n",
      "Original number of genes: 25337\n",
      "Duplicated gene names after dropping duplicates in the first column:\n",
      " Int64Index([], dtype='int64', name='sample')\n"
     ]
    }
   ],
   "source": [
    "import numpy as np\n",
    "import pandas as pd\n",
    "from scipy import stats\n",
    "\n",
    "def filter_genes(path_exprs, log2=True, zscores=True, size=5000):\n",
    "\n",
    "    exprs = pd.read_csv(path_exprs, sep='\\t', index_col=0)  \n",
    "\n",
    "    print(\"Original number of genes:\", exprs.shape[0])\n",
    "\n",
    "    if log2:\n",
    "        minimal = exprs.min().min()\n",
    "        if minimal <= 0:\n",
    "            exprs += np.abs(minimal - 1)\n",
    "        exprs = np.log2(exprs)\n",
    "\n",
    "    top_genes = exprs.std(axis=1).nlargest(size).index\n",
    "    exprs = exprs.loc[top_genes]\n",
    "\n",
    "    if zscores:\n",
    "        exprs = pd.DataFrame(stats.zscore(exprs, axis=1), index=exprs.index, columns=exprs.columns)\n",
    "    \n",
    "    exprs = exprs.loc[~exprs.index.duplicated(keep='first')]\n",
    "    return exprs\n",
    "\n",
    "exprs = filter_genes('/Users/yazgisert/Desktop/tez/desmond_expression_tcga_RSEM_gene.tsv')\n",
    "exprs.to_csv ('/Users/yazgisert/Desktop/genes_desmond_top_5000.tsv', sep='\\t')\n",
    "\n"
   ]
  }
 ],
 "metadata": {
  "kernelspec": {
   "display_name": "Python 3",
   "language": "python",
   "name": "python3"
  },
  "language_info": {
   "codemirror_mode": {
    "name": "ipython",
    "version": 3
   },
   "file_extension": ".py",
   "mimetype": "text/x-python",
   "name": "python",
   "nbconvert_exporter": "python",
   "pygments_lexer": "ipython3",
   "version": "3.8.3"
  }
 },
 "nbformat": 4,
 "nbformat_minor": 4
}
